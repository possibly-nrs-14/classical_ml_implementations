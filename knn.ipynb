{
 "cells": [
  {
   "cell_type": "code",
   "execution_count": 1,
   "metadata": {},
   "outputs": [],
   "source": [
    "import torch\n",
    "from sklearn.metrics.pairwise import cosine_distances, euclidean_distances\n",
    "from tqdm import tqdm\n",
    "from scipy import stats\n",
    "import numpy as np"
   ]
  },
  {
   "cell_type": "code",
   "execution_count": 2,
   "metadata": {},
   "outputs": [
    {
     "name": "stdout",
     "output_type": "stream",
     "text": [
      "torch.Size([50000, 512]) torch.Size([50000])\n"
     ]
    }
   ],
   "source": [
    "train_embeddings = torch.load('./SMAI_A1/train_embeddings.pth', weights_only=True)\n",
    "train_labels = torch.load('./SMAI_A1/train_labels.pth', weights_only=True)\n",
    "print(train_embeddings.shape, train_labels.shape)"
   ]
  },
  {
   "cell_type": "code",
   "execution_count": 3,
   "metadata": {},
   "outputs": [
    {
     "name": "stdout",
     "output_type": "stream",
     "text": [
      "torch.Size([10000, 512]) torch.Size([10000])\n"
     ]
    }
   ],
   "source": [
    "test_embeddings = torch.load('./SMAI_A1/test_embeddings.pth', weights_only=True)\n",
    "test_labels = torch.load('./SMAI_A1/test_labels.pth', weights_only=True)\n",
    "print(test_embeddings.shape, test_labels.shape)"
   ]
  },
  {
   "cell_type": "code",
   "execution_count": 4,
   "metadata": {},
   "outputs": [],
   "source": [
    "class KNNClassificationModel():\n",
    "    def __init__(self, train_embeddings, test_embeddings, train_labels, test_labels, k=3, distance_metric='cosine'):\n",
    "        self.train_embeddings = train_embeddings.cpu().numpy()\n",
    "        self.test_embeddings = test_embeddings.cpu().numpy()\n",
    "        self.train_labels = train_labels\n",
    "        self.test_labels = test_labels\n",
    "        self.k = k\n",
    "        self.distance_matrix = None\n",
    "        self.distance_metric = distance_metric\n",
    "    def compute_distance_matrix(self):\n",
    "        if self.distance_metric == 'cosine':\n",
    "            self.distance_matrix = cosine_distances(self.test_embeddings, self.train_embeddings)\n",
    "        elif self.distance_metric == 'euclidean':\n",
    "            self.distance_matrix = euclidean_distances(self.test_embeddings, self.train_embeddings)\n",
    "    def evaluate(self):\n",
    "        self.compute_distance_matrix()\n",
    "        preds = []\n",
    "        train_length = len(self.distance_matrix[0])\n",
    "        for i in tqdm(range(len(self.distance_matrix))):\n",
    "            all_neighbors = np.array([[j, self.distance_matrix[i][j]] for j in range(train_length)])\n",
    "            sorted_neighbors = all_neighbors[np.argsort(all_neighbors[:, 1])]\n",
    "            nearest_neighbors = sorted_neighbors[:self.k]\n",
    "            possible_labels = [self.train_labels[int(neighbor[0])] for neighbor in nearest_neighbors]\n",
    "            pred = stats.mode(possible_labels, axis=None)[0]\n",
    "            preds.append(pred)\n",
    "            del all_neighbors, sorted_neighbors, nearest_neighbors, possible_labels\n",
    "        preds = torch.tensor(preds)\n",
    "        accuracy = (preds == self.test_labels).float().mean()\n",
    "        print(f'Accuracy with {self.distance_metric} distance and k = {self.k}: {float(accuracy)}')\n",
    "            \n",
    "dist_metrics = ['cosine', 'euclidean']"
   ]
  },
  {
   "cell_type": "code",
   "execution_count": 5,
   "metadata": {},
   "outputs": [
    {
     "name": "stderr",
     "output_type": "stream",
     "text": [
      "100%|██████████| 10000/10000 [14:14<00:00, 11.70it/s]\n"
     ]
    },
    {
     "name": "stdout",
     "output_type": "stream",
     "text": [
      "Accuracy with cosine distance and k = 1: 0.9047999978065491\n"
     ]
    },
    {
     "name": "stderr",
     "output_type": "stream",
     "text": [
      "100%|██████████| 10000/10000 [17:17<00:00,  9.64it/s]\n"
     ]
    },
    {
     "name": "stdout",
     "output_type": "stream",
     "text": [
      "Accuracy with cosine distance and k = 5: 0.9182000160217285\n"
     ]
    },
    {
     "name": "stderr",
     "output_type": "stream",
     "text": [
      "100%|██████████| 10000/10000 [16:54<00:00,  9.86it/s]\n"
     ]
    },
    {
     "name": "stdout",
     "output_type": "stream",
     "text": [
      "Accuracy with cosine distance and k = 10: 0.9193999767303467\n"
     ]
    },
    {
     "name": "stderr",
     "output_type": "stream",
     "text": [
      "100%|██████████| 10000/10000 [15:56<00:00, 10.46it/s]\n"
     ]
    },
    {
     "name": "stdout",
     "output_type": "stream",
     "text": [
      "Accuracy with euclidean distance and k = 1: 0.9047999978065491\n"
     ]
    },
    {
     "name": "stderr",
     "output_type": "stream",
     "text": [
      "100%|██████████| 10000/10000 [14:44<00:00, 11.30it/s]\n"
     ]
    },
    {
     "name": "stdout",
     "output_type": "stream",
     "text": [
      "Accuracy with euclidean distance and k = 5: 0.9182000160217285\n"
     ]
    },
    {
     "name": "stderr",
     "output_type": "stream",
     "text": [
      "100%|██████████| 10000/10000 [14:46<00:00, 11.28it/s]"
     ]
    },
    {
     "name": "stdout",
     "output_type": "stream",
     "text": [
      "Accuracy with euclidean distance and k = 10: 0.9193999767303467\n"
     ]
    },
    {
     "name": "stderr",
     "output_type": "stream",
     "text": [
      "\n"
     ]
    }
   ],
   "source": [
    "\n",
    "ks = [1, 5, 10]\n",
    "for metric in dist_metrics:\n",
    "    for k in ks:\n",
    "        model = KNNClassificationModel(train_embeddings, test_embeddings, train_labels, test_labels, k=k, distance_metric=metric)\n",
    "        model.evaluate()\n",
    "        del model"
   ]
  },
  {
   "cell_type": "code",
   "execution_count": 6,
   "metadata": {},
   "outputs": [
    {
     "name": "stdout",
     "output_type": "stream",
     "text": [
      "torch.Size([10, 512])\n"
     ]
    },
    {
     "name": "stderr",
     "output_type": "stream",
     "text": [
      "100%|██████████| 10000/10000 [00:02<00:00, 4663.57it/s]\n"
     ]
    },
    {
     "name": "stdout",
     "output_type": "stream",
     "text": [
      "Accuracy with cosine distance and k = 1: 0.8780999779701233\n"
     ]
    },
    {
     "name": "stderr",
     "output_type": "stream",
     "text": [
      "100%|██████████| 10000/10000 [00:02<00:00, 3927.69it/s]"
     ]
    },
    {
     "name": "stdout",
     "output_type": "stream",
     "text": [
      "Accuracy with euclidean distance and k = 1: 0.8780999779701233\n"
     ]
    },
    {
     "name": "stderr",
     "output_type": "stream",
     "text": [
      "\n"
     ]
    }
   ],
   "source": [
    "text_embeddings = torch.load('./SMAI_A1/text_embedding.pth', map_location=torch.device('cpu'), weights_only=True)\n",
    "print(text_embeddings.shape)\n",
    "text_labels = torch.tensor(range(10))\n",
    "for metric in dist_metrics:\n",
    "    model = KNNClassificationModel(text_embeddings, test_embeddings, text_labels, test_labels, k=1, distance_metric=metric)\n",
    "    model.evaluate()\n",
    "    del model\n",
    "    "
   ]
  },
  {
   "cell_type": "code",
   "execution_count": 7,
   "metadata": {},
   "outputs": [],
   "source": [
    "class KNNRetrievalModel():\n",
    "    def __init__(self, train_embeddings, test_embeddings, train_labels, test_labels, k=3, distance_metric='cosine'):\n",
    "        self.train_embeddings = train_embeddings.cpu().numpy()\n",
    "        self.test_embeddings = test_embeddings.cpu().numpy()\n",
    "        self.train_labels = train_labels\n",
    "        self.test_labels = test_labels\n",
    "        self.k = k\n",
    "        self.distance_matrix = None\n",
    "        self.distance_metric = distance_metric\n",
    "    def compute_distance_matrix(self):\n",
    "        if self.distance_metric == 'cosine':\n",
    "            self.distance_matrix = cosine_distances(self.test_embeddings, self.train_embeddings)\n",
    "        elif self.distance_metric == 'euclidean':\n",
    "            self.distance_matrix = euclidean_distances(self.test_embeddings, self.train_embeddings)\n",
    "    def evaluate(self):\n",
    "        self.compute_distance_matrix()\n",
    "        train_length = len(self.distance_matrix[0])\n",
    "        MRR = 0\n",
    "        Precision = 0\n",
    "        HR = 0\n",
    "        for i in tqdm(range(len(self.distance_matrix))):\n",
    "            all_neighbors = np.array([[j, self.distance_matrix[i][j]] for j in range(train_length)])\n",
    "            sorted_neighbors = all_neighbors[np.argsort(all_neighbors[:, 1])]\n",
    "            nearest_neighbors = sorted_neighbors[:self.k]\n",
    "            possible_labels = [self.train_labels[int(neighbor[0])] for neighbor in nearest_neighbors]\n",
    "            for j in range(len(possible_labels)):\n",
    "                if possible_labels[j] == int(self.test_labels[i]):\n",
    "                    MRR += (1 / (j +  1))\n",
    "                    HR += 1\n",
    "                    break\n",
    "            for j in range(len(possible_labels)):\n",
    "                if possible_labels[j] == int(self.test_labels[i]):\n",
    "                    Precision += 1 / 100\n",
    "        print(f'Results for {self.distance_metric} distance and k = {self.k}:')\n",
    "        print(f'Mean Reciprocal Rank: {MRR / len(self.distance_matrix)} Precision: {Precision / len(self.distance_matrix)} Hit Rate: {HR / len(self.distance_matrix)}')\n",
    "                    \n",
    "                \n",
    "            \n",
    "            \n",
    "            "
   ]
  },
  {
   "cell_type": "code",
   "execution_count": 8,
   "metadata": {},
   "outputs": [
    {
     "name": "stderr",
     "output_type": "stream",
     "text": [
      "100%|██████████| 10/10 [00:01<00:00,  8.55it/s]\n"
     ]
    },
    {
     "name": "stdout",
     "output_type": "stream",
     "text": [
      "Results for cosine distance and k = 100:\n",
      "Mean Reciprocal Rank: 1.0 Precision: 0.9739999999999837 Hit Rate: 1.0\n"
     ]
    },
    {
     "name": "stderr",
     "output_type": "stream",
     "text": [
      "100%|██████████| 10/10 [00:01<00:00,  8.58it/s]\n"
     ]
    },
    {
     "name": "stdout",
     "output_type": "stream",
     "text": [
      "Results for euclidean distance and k = 100:\n",
      "Mean Reciprocal Rank: 1.0 Precision: 0.9739999999999837 Hit Rate: 1.0\n"
     ]
    },
    {
     "name": "stderr",
     "output_type": "stream",
     "text": [
      "  1%|          | 78/10000 [00:07<14:43, 11.23it/s]"
     ]
    },
    {
     "name": "stderr",
     "output_type": "stream",
     "text": [
      "100%|██████████| 10000/10000 [13:12<00:00, 12.62it/s]\n"
     ]
    },
    {
     "name": "stdout",
     "output_type": "stream",
     "text": [
      "Results for cosine distance and k = 100:\n",
      "Mean Reciprocal Rank: 0.9347961513315047 Precision: 0.8410820000137168 Hit Rate: 0.9996\n"
     ]
    },
    {
     "name": "stderr",
     "output_type": "stream",
     "text": [
      "100%|██████████| 10000/10000 [16:22<00:00, 10.17it/s]"
     ]
    },
    {
     "name": "stdout",
     "output_type": "stream",
     "text": [
      "Results for euclidean distance and k = 100:\n",
      "Mean Reciprocal Rank: 0.9347961513315047 Precision: 0.8410830000137168 Hit Rate: 0.9996\n"
     ]
    },
    {
     "name": "stderr",
     "output_type": "stream",
     "text": [
      "\n"
     ]
    }
   ],
   "source": [
    "for metric in dist_metrics:\n",
    "    model = KNNRetrievalModel(train_embeddings, text_embeddings, train_labels, text_labels, k=100, distance_metric=metric)\n",
    "    model.evaluate()\n",
    "    del model\n",
    "for metric in dist_metrics:\n",
    "    model = KNNRetrievalModel(train_embeddings, test_embeddings, train_labels, test_labels, k=100, distance_metric=metric)\n",
    "    model.evaluate()\n",
    "    del model"
   ]
  }
 ],
 "metadata": {
  "kernelspec": {
   "display_name": "Python 3",
   "language": "python",
   "name": "python3"
  },
  "language_info": {
   "codemirror_mode": {
    "name": "ipython",
    "version": 3
   },
   "file_extension": ".py",
   "mimetype": "text/x-python",
   "name": "python",
   "nbconvert_exporter": "python",
   "pygments_lexer": "ipython3",
   "version": "3.11.9"
  }
 },
 "nbformat": 4,
 "nbformat_minor": 2
}
